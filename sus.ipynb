{
  "cells": [
    {
      "cell_type": "markdown",
      "metadata": {
        "id": "view-in-github",
        "colab_type": "text"
      },
      "source": [
        "<a href=\"https://colab.research.google.com/github/Filarh/Fooocus/blob/main/sus.ipynb\" target=\"_parent\"><img src=\"https://colab.research.google.com/assets/colab-badge.svg\" alt=\"Open In Colab\"/></a>"
      ]
    },
    {
      "cell_type": "code",
      "execution_count": null,
      "metadata": {
        "id": "VjYy0F2gZIPR",
        "outputId": "fa7a6da8-745d-4b95-f5e4-d82b5c69df37",
        "colab": {
          "base_uri": "https://localhost:8080/"
        },
        "cellView": "form"
      },
      "outputs": [
        {
          "output_type": "stream",
          "name": "stdout",
          "text": [
            "Already up-to-date\n",
            "Update succeeded.\n",
            "[System ARGV] ['entry_with_update.py', '--share', '--preset', 'unstable']\n",
            "Loaded preset: /content/Fooocus/presets/unstable.json\n",
            "Python 3.10.12 (main, Nov 20 2023, 15:14:05) [GCC 11.4.0]\n",
            "Fooocus version: 2.1.862\n",
            "Downloading: \"https://civitai.com/api/download/models/276923\" to /content/Fooocus/models/checkpoints/unstable.safetensors\n",
            "\n",
            "100% 6.46G/6.46G [01:26<00:00, 80.0MB/s]\n",
            "Total VRAM 15102 MB, total RAM 12979 MB\n",
            "Set vram state to: NORMAL_VRAM\n",
            "Always offload VRAM\n",
            "Device: cuda:0 Tesla T4 : native\n",
            "VAE dtype: torch.float32\n",
            "Using pytorch cross attention\n",
            "Running on local URL:  http://127.0.0.1:7865\n",
            "Running on public URL: https://3a168b8992e5ea4cb5.gradio.live\n",
            "\n",
            "This share link expires in 72 hours. For free permanent hosting and GPU upgrades, run `gradio deploy` from Terminal to deploy to Spaces (https://huggingface.co/spaces)\n",
            "2024-01-09 05:46:25.063572: E external/local_xla/xla/stream_executor/cuda/cuda_dnn.cc:9261] Unable to register cuDNN factory: Attempting to register factory for plugin cuDNN when one has already been registered\n",
            "2024-01-09 05:46:25.063671: E external/local_xla/xla/stream_executor/cuda/cuda_fft.cc:607] Unable to register cuFFT factory: Attempting to register factory for plugin cuFFT when one has already been registered\n",
            "2024-01-09 05:46:25.197348: E external/local_xla/xla/stream_executor/cuda/cuda_blas.cc:1515] Unable to register cuBLAS factory: Attempting to register factory for plugin cuBLAS when one has already been registered\n",
            "2024-01-09 05:46:27.221930: W tensorflow/compiler/tf2tensorrt/utils/py_utils.cc:38] TF-TRT Warning: Could not find TensorRT\n",
            "Refiner unloaded.\n",
            "model_type EPS\n",
            "UNet ADM Dimension 2816\n"
          ]
        }
      ],
      "source": [
        "\n",
        "# @title ## ejecuta esta celda solo una vez hasta que ponga \"installing requirements\"\n",
        "if 'Args' not in locals():\n",
        "    !pip install pygit2==1.12.2\n",
        "    %cd /content\n",
        "    !git clone https://github.com/lllyasviel/Fooocus.git\n",
        "    %cd /content/Fooocus\n",
        "    Args = \"\"\n",
        "\n",
        "!python entry_with_update.py --share $Args"
      ]
    },
    {
      "cell_type": "code",
      "source": [
        "# @title ## MODELO PERSONALIZADO\n",
        "import os\n",
        "import json\n",
        "\n",
        "\n",
        "def modificar_json(nombre_archivo: str, link_archivo: str, aspect_ratio: str = \"1152*896\"):\n",
        "    carpeta = '/content/Fooocus/presets'\n",
        "    archivos = os.listdir(carpeta)\n",
        "    json_encontrado = next((archivo for archivo in archivos if archivo.endswith('.json')), None)\n",
        "\n",
        "    if json_encontrado:\n",
        "        with open(os.path.join(carpeta, json_encontrado)) as file:\n",
        "            data = json.load(file)\n",
        "\n",
        "        # Modificar los valores necesarios\n",
        "        data['default_model'] = nombre_archivo + \".safetensors\"  # Agregar la extensión al nombre del modelo\n",
        "        data['default_aspect_ratio'] = aspect_ratio\n",
        "        data['default_refiner'] = \"\"\n",
        "\n",
        "        # Actualizar el diccionario checkpoint_downloads con el nuevo archivo y link\n",
        "        data['checkpoint_downloads'] = {nombre_archivo + \".safetensors\": link_archivo}  # Agregar la extensión al nombre del modelo\n",
        "\n",
        "        # Establecer el argumento para la segunda celda basado en el nombre del archivo\n",
        "        global Args\n",
        "        Args = f\"--preset {nombre_archivo}\"  # Mantener solo el nombre del archivo sin extensión\n",
        "\n",
        "        # Simplificar el nombre del archivo de salida\n",
        "        nuevo_nombre = f\"{nombre_archivo}.json\"\n",
        "        with open(os.path.join(carpeta, nuevo_nombre), 'w') as file:\n",
        "            json.dump(data, file, separators=(',', ':'))\n",
        "\n",
        "        return f\"¡Se ha creado el archivo {nuevo_nombre} con los parámetros proporcionados y estructura correcta!\"\n",
        "\n",
        "    else:\n",
        "        return \"No se encontraron archivos JSON en la carpeta especificada.\"\n",
        "# Parámetros proporcionados\n",
        "nombre_archivo = \"unstable\"  #@param {type: \"string\"}\n",
        "link_archivo = \"https://civitai.com/api/download/models/276923\"  #@param {type: \"string\"}\n",
        "resultado = modificar_json(nombre_archivo, link_archivo)\n",
        "print(resultado)"
      ],
      "metadata": {
        "id": "6EwvamdE0q0k",
        "outputId": "45f0bda7-4fbe-446e-c277-8170b411a9cf",
        "colab": {
          "base_uri": "https://localhost:8080/"
        },
        "cellView": "form"
      },
      "execution_count": 6,
      "outputs": [
        {
          "output_type": "stream",
          "name": "stdout",
          "text": [
            "¡Se ha creado el archivo unstable.json con los parámetros proporcionados y estructura correcta!\n"
          ]
        }
      ]
    },
    {
      "cell_type": "code",
      "source": [
        "# @title ## cambia el output y el directorio de loras a drive\n",
        "from google.colab import drive\n",
        "drive.mount('/content/drive')\n",
        "file_path = '/content/Fooocus/config.txt'\n",
        "\n",
        "# Abrir el archivo y leer su contenido\n",
        "with open(file_path, 'r') as file:\n",
        "    data = file.read()\n",
        "\n",
        "# Realizar los cambios necesarios en el contenido\n",
        "data = data.replace('/content/Fooocus/models/loras', '/content/drive/MyDrive/MyLoras')\n",
        "data = data.replace('/content/Fooocus/outputs', '/content/drive/MyDrive/Fooocus_output')\n",
        "\n",
        "# Escribir los cambios de vuelta al archivo\n",
        "with open(file_path, 'w') as file:\n",
        "    file.write(data)\n",
        "\n",
        "print(\"Se han actualizado los directorios en el archivo de configuración.\")"
      ],
      "metadata": {
        "id": "RK1jRsRkT-2a",
        "outputId": "f37084b6-5d44-497e-80f9-30d219494434",
        "colab": {
          "base_uri": "https://localhost:8080/"
        },
        "cellView": "form"
      },
      "execution_count": 4,
      "outputs": [
        {
          "output_type": "stream",
          "name": "stdout",
          "text": [
            "Se han actualizado los directorios en el archivo de configuración.\n"
          ]
        }
      ]
    }
  ],
  "metadata": {
    "accelerator": "GPU",
    "colab": {
      "gpuType": "T4",
      "provenance": [],
      "include_colab_link": true
    },
    "kernelspec": {
      "display_name": "Python 3",
      "name": "python3"
    },
    "language_info": {
      "name": "python"
    }
  },
  "nbformat": 4,
  "nbformat_minor": 0
}