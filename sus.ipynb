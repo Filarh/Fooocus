{
  "cells": [
    {
      "cell_type": "markdown",
      "metadata": {
        "id": "view-in-github",
        "colab_type": "text"
      },
      "source": [
        "<a href=\"https://colab.research.google.com/github/Filarh/Fooocus/blob/main/sus.ipynb\" target=\"_parent\"><img src=\"https://colab.research.google.com/assets/colab-badge.svg\" alt=\"Open In Colab\"/></a>"
      ]
    },
    {
      "cell_type": "code",
      "execution_count": null,
      "metadata": {
        "id": "VjYy0F2gZIPR",
        "outputId": "42760ab2-47c3-4602-98bd-20ea81cd113a",
        "colab": {
          "base_uri": "https://localhost:8080/"
        }
      },
      "outputs": [
        {
          "output_type": "stream",
          "name": "stdout",
          "text": [
            "Requirement already satisfied: pygit2==1.12.2 in /usr/local/lib/python3.10/dist-packages (1.12.2)\n",
            "Requirement already satisfied: cffi>=1.9.1 in /usr/local/lib/python3.10/dist-packages (from pygit2==1.12.2) (1.16.0)\n",
            "Requirement already satisfied: pycparser in /usr/local/lib/python3.10/dist-packages (from cffi>=1.9.1->pygit2==1.12.2) (2.21)\n",
            "/content\n",
            "fatal: destination path 'Fooocus' already exists and is not an empty directory.\n",
            "/content/Fooocus\n",
            "Already up-to-date\n",
            "Update succeeded.\n",
            "[System ARGV] ['entry_with_update.py', '--share', '--preset', 'monachina']\n",
            "Loaded preset: /content/Fooocus/presets/monachina.json\n",
            "Python 3.10.12 (main, Nov 20 2023, 15:14:05) [GCC 11.4.0]\n",
            "Fooocus version: 2.1.861\n",
            "Downloading: \"https://civitai.com/api/download/models/269502\" to /content/Fooocus/models/checkpoints/monachina.safetensors\n",
            "\n",
            "100% 6.46G/6.46G [03:22<00:00, 34.3MB/s]\n",
            "Total VRAM 15102 MB, total RAM 12979 MB\n",
            "Set vram state to: NORMAL_VRAM\n",
            "Always offload VRAM\n",
            "Device: cuda:0 Tesla T4 : native\n",
            "VAE dtype: torch.float32\n",
            "Using pytorch cross attention\n",
            "Running on local URL:  http://127.0.0.1:7865\n",
            "2024-01-08 07:33:06.440424: E external/local_xla/xla/stream_executor/cuda/cuda_dnn.cc:9261] Unable to register cuDNN factory: Attempting to register factory for plugin cuDNN when one has already been registered\n",
            "2024-01-08 07:33:06.440487: E external/local_xla/xla/stream_executor/cuda/cuda_fft.cc:607] Unable to register cuFFT factory: Attempting to register factory for plugin cuFFT when one has already been registered\n",
            "2024-01-08 07:33:06.442906: E external/local_xla/xla/stream_executor/cuda/cuda_blas.cc:1515] Unable to register cuBLAS factory: Attempting to register factory for plugin cuBLAS when one has already been registered\n",
            "Running on public URL: https://38c8c8892d313d1893.gradio.live\n",
            "\n",
            "This share link expires in 72 hours. For free permanent hosting and GPU upgrades, run `gradio deploy` from Terminal to deploy to Spaces (https://huggingface.co/spaces)\n",
            "2024-01-08 07:33:08.640318: W tensorflow/compiler/tf2tensorrt/utils/py_utils.cc:38] TF-TRT Warning: Could not find TensorRT\n",
            "Refiner unloaded.\n",
            "model_type EPS\n",
            "UNet ADM Dimension 2816\n",
            "Using pytorch attention in VAE\n",
            "Working with z of shape (1, 4, 32, 32) = 4096 dimensions.\n",
            "Using pytorch attention in VAE\n",
            "extra {'cond_stage_model.clip_g.transformer.text_model.embeddings.position_ids', 'cond_stage_model.clip_l.logit_scale', 'cond_stage_model.clip_l.text_projection'}\n",
            "Base model loaded: /content/Fooocus/models/checkpoints/monachina.safetensors\n",
            "Request to load LoRAs [['sd_xl_offset_example-lora_1.0.safetensors', 0.5], ['None', 1.0], ['None', 1.0], ['None', 1.0], ['None', 1.0]] for model [/content/Fooocus/models/checkpoints/monachina.safetensors].\n",
            "Loaded LoRA [/content/drive/MyDrive/MyLoras/sd_xl_offset_example-lora_1.0.safetensors] for UNet [/content/Fooocus/models/checkpoints/monachina.safetensors] with 788 keys at weight 0.5.\n",
            "Fooocus V2 Expansion: Vocab with 642 words.\n",
            "Fooocus Expansion engine loaded for cuda:0, use_fp16 = True.\n",
            "Requested to load SDXLClipModel\n",
            "Requested to load GPT2LMHeadModel\n",
            "Loading 2 new models\n",
            "[Fooocus Model Management] Moving model(s) has taken 0.80 seconds\n",
            "App started successful. Use the app with http://127.0.0.1:7865/ or 127.0.0.1:7865 or https://38c8c8892d313d1893.gradio.live\n",
            "[Parameters] Adaptive CFG = 7\n",
            "[Parameters] Sharpness = 2\n",
            "[Parameters] ADM Scale = 1.5 : 0.8 : 0.3\n",
            "[Parameters] CFG = 7.0\n",
            "[Parameters] Seed = 891475905490388891\n",
            "[Parameters] Sampler = dpmpp_2m_sde_gpu - karras\n",
            "[Parameters] Steps = 30 - 22\n",
            "[Fooocus] Initializing ...\n",
            "[Fooocus] Loading models ...\n",
            "Refiner unloaded.\n",
            "Request to load LoRAs [['Copia de sdxl_Mika-Rakul_Preet_Singh-000012.safetensors', 0.9], ['None', 1.0], ['None', 1.0], ['None', 1.0], ['None', 1.0]] for model [/content/Fooocus/models/checkpoints/monachina.safetensors].\n",
            "Loaded LoRA [/content/drive/MyDrive/MyLoras/Copia de sdxl_Mika-Rakul_Preet_Singh-000012.safetensors] for UNet [/content/Fooocus/models/checkpoints/monachina.safetensors] with 722 keys at weight 0.9.\n",
            "Requested to load SDXLClipModel\n",
            "Loading 1 new model\n",
            "unload clone 1\n",
            "[Fooocus Model Management] Moving model(s) has taken 1.64 seconds\n",
            "[Fooocus] Processing prompts ...\n",
            "[Fooocus] Preparing Fooocus text #1 ...\n",
            "[Prompt Expansion] In a close-up shot, Rakul Preet Singh's portrait accentuates her alluring features and captivating gaze. With a focus on her eyes and poised expression against a muted background, she exudes confidence and allure, captured by talented photographers, ArtStation, dynamic dramatic cinematic ambient light, designed, rich deep colors, gentle, detailed, very inspirational, intricate\n",
            "[Fooocus] Preparing Fooocus text #2 ...\n",
            "[Prompt Expansion] In a close-up shot, Rakul Preet Singh's portrait accentuates her alluring features and captivating gaze. With a focus on her eyes and poised expression against a muted background, she exudes confidence and allure, captured by talented photographers, ArtStation, elaborate polished, very detailed, full color, beautiful, cinematic, stunning, rich deep colors, dynamic\n",
            "[Fooocus] Encoding positive #1 ...\n",
            "[Fooocus Model Management] Moving model(s) has taken 0.12 seconds\n",
            "[Fooocus] Encoding positive #2 ...\n",
            "[Fooocus] Encoding negative #1 ...\n",
            "[Fooocus] Encoding negative #2 ...\n",
            "[Parameters] Denoising Strength = 1.0\n",
            "[Parameters] Initial Latent shape: Image Space (896, 1152)\n",
            "Preparation time: 8.68 seconds\n",
            "[Sampler] refiner_swap_method = joint\n",
            "[Sampler] sigma_min = 0.0291671771556139, sigma_max = 14.614643096923828\n",
            "Requested to load SDXL\n",
            "Loading 1 new model\n",
            "[Fooocus Model Management] Moving model(s) has taken 3.05 seconds\n",
            "100% 30/30 [00:26<00:00,  1.15it/s]\n",
            "Requested to load AutoencoderKL\n",
            "Loading 1 new model\n",
            "[Fooocus Model Management] Moving model(s) has taken 0.82 seconds\n",
            "Image generated with private log at: /content/drive/MyDrive/Fooocus_output/2024-01-08/log.html\n",
            "Generating and saving time: 33.11 seconds\n",
            "[Sampler] refiner_swap_method = joint\n",
            "[Sampler] sigma_min = 0.0291671771556139, sigma_max = 14.614643096923828\n",
            "Requested to load SDXL\n",
            "Loading 1 new model\n",
            "[Fooocus Model Management] Moving model(s) has taken 2.66 seconds\n",
            "100% 30/30 [00:26<00:00,  1.13it/s]\n",
            "Requested to load AutoencoderKL\n",
            "Loading 1 new model\n",
            "[Fooocus Model Management] Moving model(s) has taken 0.56 seconds\n",
            "Image generated with private log at: /content/drive/MyDrive/Fooocus_output/2024-01-08/log.html\n",
            "Generating and saving time: 32.50 seconds\n",
            "Requested to load SDXLClipModel\n",
            "Requested to load GPT2LMHeadModel\n",
            "Loading 2 new models\n",
            "[Fooocus Model Management] Moving model(s) has taken 0.95 seconds\n",
            "Total time: 79.21 seconds\n",
            "[Parameters] Adaptive CFG = 7\n",
            "[Parameters] Sharpness = 2\n",
            "[Parameters] ADM Scale = 1.5 : 0.8 : 0.3\n",
            "[Parameters] CFG = 7.0\n",
            "[Parameters] Seed = 4187432716363606998\n",
            "[Parameters] Sampler = dpmpp_2m_sde_gpu - karras\n",
            "[Parameters] Steps = 30 - 22\n",
            "[Fooocus] Initializing ...\n",
            "[Fooocus] Loading models ...\n",
            "Refiner unloaded.\n",
            "Request to load LoRAs [['Copia de sdxl_Mika-Rakul_Preet_Singh-000012.safetensors', 0.8], ['sdxl2_guweiz-gwz_style-000007.safetensors', 1.0], ['None', 1.0], ['None', 1.0], ['None', 1.0]] for model [/content/Fooocus/models/checkpoints/monachina.safetensors].\n",
            "Loaded LoRA [/content/drive/MyDrive/MyLoras/Copia de sdxl_Mika-Rakul_Preet_Singh-000012.safetensors] for UNet [/content/Fooocus/models/checkpoints/monachina.safetensors] with 722 keys at weight 0.8.\n",
            "Loaded LoRA [/content/drive/MyDrive/MyLoras/sdxl2_guweiz-gwz_style-000007.safetensors] for UNet [/content/Fooocus/models/checkpoints/monachina.safetensors] with 722 keys at weight 1.0.\n",
            "Requested to load SDXLClipModel\n",
            "Loading 1 new model\n",
            "unload clone 1\n",
            "[Fooocus Model Management] Moving model(s) has taken 1.30 seconds\n",
            "[Fooocus] Processing prompts ...\n",
            "[Fooocus] Preparing Fooocus text #1 ...\n",
            "[Prompt Expansion] In a close-up shot, Rakul Preet Singh's portrait accentuates her alluring features and captivating gaze. With a focus on her eyes and poised expression against a muted background, she exudes confidence and allure, captured by talented photographers, (fez style:1.4), dynamic dramatic cinematic color, ambient light, detailed, sharp, perfect composition\n",
            "[Fooocus] Preparing Fooocus text #2 ...\n",
            "[Prompt Expansion] In a close-up shot, Rakul Preet Singh's portrait accentuates her alluring features and captivating gaze. With a focus on her eyes and poised expression against a muted background, she exudes confidence and allure, captured by talented photographers, (fez style:1.4), rich colors, romantic atmosphere, gorgeous, elegant, very inspirational\n",
            "[Fooocus] Encoding positive #1 ...\n",
            "[Fooocus Model Management] Moving model(s) has taken 0.12 seconds\n",
            "[Fooocus] Encoding positive #2 ...\n",
            "[Fooocus] Encoding negative #1 ...\n",
            "[Fooocus] Encoding negative #2 ...\n",
            "[Parameters] Denoising Strength = 1.0\n",
            "[Parameters] Initial Latent shape: Image Space (896, 1152)\n",
            "Preparation time: 8.25 seconds\n",
            "[Sampler] refiner_swap_method = joint\n",
            "[Sampler] sigma_min = 0.0291671771556139, sigma_max = 14.614643096923828\n",
            "Requested to load SDXL\n",
            "Loading 1 new model\n",
            "[Fooocus Model Management] Moving model(s) has taken 3.50 seconds\n",
            "100% 30/30 [00:27<00:00,  1.09it/s]\n",
            "Requested to load AutoencoderKL\n",
            "Loading 1 new model\n",
            "[Fooocus Model Management] Moving model(s) has taken 0.57 seconds\n",
            "Image generated with private log at: /content/drive/MyDrive/Fooocus_output/2024-01-08/log.html\n",
            "Generating and saving time: 34.07 seconds\n",
            "[Sampler] refiner_swap_method = joint\n",
            "[Sampler] sigma_min = 0.0291671771556139, sigma_max = 14.614643096923828\n",
            "Requested to load SDXL\n",
            "Loading 1 new model\n",
            "[Fooocus Model Management] Moving model(s) has taken 2.33 seconds\n",
            " 63% 19/30 [00:17<00:10,  1.07it/s]\n",
            "User stopped\n",
            "Requested to load SDXLClipModel\n",
            "Requested to load GPT2LMHeadModel\n",
            "Loading 2 new models\n",
            "[Fooocus Model Management] Moving model(s) has taken 1.17 seconds\n",
            "Total time: 63.66 seconds\n",
            "[Parameters] Adaptive CFG = 7\n",
            "[Parameters] Sharpness = 2\n",
            "[Parameters] ADM Scale = 1.5 : 0.8 : 0.3\n",
            "[Parameters] CFG = 7.0\n",
            "[Parameters] Seed = 8831224157156450975\n",
            "[Parameters] Sampler = dpmpp_2m_sde_gpu - karras\n",
            "[Parameters] Steps = 30 - 22\n",
            "[Fooocus] Initializing ...\n",
            "[Fooocus] Loading models ...\n",
            "Refiner unloaded.\n",
            "[Fooocus] Processing prompts ...\n",
            "[Fooocus] Preparing Fooocus text #1 ...\n",
            "[Prompt Expansion] In a close-up shot, Rakul Preet Singh's portrait accentuates her alluring features and captivating gaze. With a focus on her eyes and poised expression against a muted background, she exudes confidence and allure, captured by talented photographers, (gwz style:1.4), rich colors, ambient light, dynamic dramatic cinematic color, winning scenic\n",
            "[Fooocus] Preparing Fooocus text #2 ...\n",
            "[Prompt Expansion] In a close-up shot, Rakul Preet Singh's portrait accentuates her alluring features and captivating gaze. With a focus on her eyes and poised expression against a muted background, she exudes confidence and allure, captured by talented photographers, (gwz style:1.4), rich deep colors, ambient light, dynamic dramatic cinematic color, composition\n",
            "[Fooocus] Encoding positive #1 ...\n",
            "[Fooocus Model Management] Moving model(s) has taken 0.13 seconds\n",
            "[Fooocus] Encoding positive #2 ...\n",
            "[Fooocus] Encoding negative #1 ...\n",
            "[Fooocus] Encoding negative #2 ...\n",
            "[Parameters] Denoising Strength = 1.0\n",
            "[Parameters] Initial Latent shape: Image Space (1280, 768)\n",
            "Preparation time: 0.99 seconds\n",
            "[Sampler] refiner_swap_method = joint\n",
            "[Sampler] sigma_min = 0.0291671771556139, sigma_max = 14.614643096923828\n",
            "Requested to load SDXL\n",
            "Loading 1 new model\n",
            "[Fooocus Model Management] Moving model(s) has taken 2.71 seconds\n",
            " 10% 3/30 [00:02<00:21,  1.23it/s]"
          ]
        }
      ],
      "source": [
        "!pip install pygit2==1.12.2\n",
        "%cd /content\n",
        "!git clone https://github.com/lllyasviel/Fooocus.git\n",
        "%cd /content/Fooocus\n",
        "if 'Args' not in locals():\n",
        "    Args = \"\"\n",
        "\n",
        "!python entry_with_update.py --share $Args"
      ]
    },
    {
      "cell_type": "code",
      "source": [
        "# @title ## MODELO PERSONALIZADO\n",
        "import os\n",
        "import json\n",
        "\n",
        "\n",
        "def modificar_json(nombre_archivo: str, link_archivo: str, aspect_ratio: str = \"1152*896\"):\n",
        "    carpeta = '/content/Fooocus/presets'\n",
        "    archivos = os.listdir(carpeta)\n",
        "    json_encontrado = next((archivo for archivo in archivos if archivo.endswith('.json')), None)\n",
        "\n",
        "    if json_encontrado:\n",
        "        with open(os.path.join(carpeta, json_encontrado)) as file:\n",
        "            data = json.load(file)\n",
        "\n",
        "        # Modificar los valores necesarios\n",
        "        data['default_model'] = nombre_archivo\n",
        "        data['default_aspect_ratio'] = aspect_ratio\n",
        "        data['default_refiner'] = \"\"\n",
        "\n",
        "        # Actualizar el diccionario checkpoint_downloads con el nuevo archivo y link\n",
        "        data['checkpoint_downloads'] = {nombre_archivo: link_archivo}\n",
        "\n",
        "        # Establecer el argumento para la segunda celda basado en el nombre del archivo\n",
        "        global Args\n",
        "        Args = f\"--preset {nombre_archivo.split('.')[0].replace(' ', '').replace('-', '')}\"\n",
        "\n",
        "        # Simplificar el nombre del archivo de salida\n",
        "        nuevo_nombre = f\"{nombre_archivo.replace(' ', '').replace('-', '').split('.')[0]}.json\"\n",
        "        with open(os.path.join(carpeta, nuevo_nombre), 'w') as file:\n",
        "            json.dump(data, file, separators=(',', ':'))\n",
        "\n",
        "        return f\"¡Se ha creado el archivo {nuevo_nombre} con los parámetros proporcionados y estructura correcta!\"\n",
        "\n",
        "    else:\n",
        "        return \"No se encontraron archivos JSON en la carpeta especificada.\"\n",
        "\n",
        "# Parámetros proporcionados\n",
        "nombre_archivo = \"\"  #@param {type: \"string\"}\n",
        "link_archivo = \"https://civitai.com/api/download/models/275491\"  #@param {type: \"string\"}\n",
        "resultado = modificar_json(nombre_archivo, link_archivo)\n",
        "print(resultado)"
      ],
      "metadata": {
        "id": "6EwvamdE0q0k",
        "outputId": "f7de3e6f-66d5-4f1b-dad4-75b0b04e76a6",
        "colab": {
          "base_uri": "https://localhost:8080/"
        }
      },
      "execution_count": null,
      "outputs": [
        {
          "output_type": "stream",
          "name": "stdout",
          "text": [
            "¡Se ha creado el archivo Gatitos.json con los parámetros proporcionados y estructura correcta!\n"
          ]
        }
      ]
    },
    {
      "cell_type": "code",
      "source": [
        "from google.colab import drive\n",
        "drive.mount('/content/drive')"
      ],
      "metadata": {
        "id": "xXkJ4qJHw1xC",
        "outputId": "daf2a875-922a-4b95-b294-61c46425ce68",
        "colab": {
          "base_uri": "https://localhost:8080/"
        }
      },
      "execution_count": null,
      "outputs": [
        {
          "output_type": "stream",
          "name": "stdout",
          "text": [
            "Mounted at /content/drive\n"
          ]
        }
      ]
    },
    {
      "cell_type": "code",
      "source": [
        "\n",
        "file_path = '/content/Fooocus/config.txt'\n",
        "\n",
        "# Abrir el archivo y leer su contenido\n",
        "with open(file_path, 'r') as file:\n",
        "    data = file.read()\n",
        "\n",
        "# Realizar los cambios necesarios en el contenido\n",
        "data = data.replace('/content/Fooocus/models/loras', '/content/drive/MyDrive/MyLoras')\n",
        "data = data.replace('/content/Fooocus/outputs', '/content/drive/MyDrive/Fooocus_output')\n",
        "\n",
        "# Escribir los cambios de vuelta al archivo\n",
        "with open(file_path, 'w') as file:\n",
        "    file.write(data)\n",
        "\n",
        "print(\"Se han actualizado los directorios en el archivo de configuración.\")"
      ],
      "metadata": {
        "id": "RK1jRsRkT-2a",
        "outputId": "51a96c2c-2dc0-45a6-a032-81d189bde1a7",
        "colab": {
          "base_uri": "https://localhost:8080/"
        }
      },
      "execution_count": null,
      "outputs": [
        {
          "output_type": "stream",
          "name": "stdout",
          "text": [
            "Se han actualizado los directorios en el archivo de configuración.\n"
          ]
        }
      ]
    }
  ],
  "metadata": {
    "accelerator": "GPU",
    "colab": {
      "gpuType": "T4",
      "provenance": [],
      "include_colab_link": true
    },
    "kernelspec": {
      "display_name": "Python 3",
      "name": "python3"
    },
    "language_info": {
      "name": "python"
    }
  },
  "nbformat": 4,
  "nbformat_minor": 0
}