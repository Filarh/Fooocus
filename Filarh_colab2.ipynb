{
  "cells": [
    {
      "cell_type": "markdown",
      "metadata": {
        "id": "view-in-github",
        "colab_type": "text"
      },
      "source": [
        "<a href=\"https://colab.research.google.com/github/Filarh/Fooocus/blob/main/Filarh_colab2.ipynb\" target=\"_parent\"><img src=\"https://colab.research.google.com/assets/colab-badge.svg\" alt=\"Open In Colab\"/></a>"
      ]
    },
    {
      "cell_type": "code",
      "execution_count": null,
      "metadata": {
        "id": "VjYy0F2gZIPR",
        "outputId": "beb8a22b-03ba-4dd5-f0bb-9184896449ed",
        "colab": {
          "base_uri": "https://localhost:8080/"
        }
      },
      "outputs": [
        {
          "output_type": "stream",
          "name": "stdout",
          "text": [
            "Requirement already satisfied: pygit2==1.12.2 in /usr/local/lib/python3.10/dist-packages (1.12.2)\n",
            "Requirement already satisfied: cffi>=1.9.1 in /usr/local/lib/python3.10/dist-packages (from pygit2==1.12.2) (1.16.0)\n",
            "Requirement already satisfied: pycparser in /usr/local/lib/python3.10/dist-packages (from cffi>=1.9.1->pygit2==1.12.2) (2.21)\n",
            "/content\n",
            "fatal: destination path 'Fooocus' already exists and is not an empty directory.\n",
            "/content/Fooocus\n",
            "Already up-to-date\n",
            "Update succeeded.\n",
            "[System ARGV] ['entry_with_update.py', '--share', '--preset', 'Gatitos']\n",
            "Loaded preset: /content/Fooocus/presets/Gatitos.json\n",
            "Python 3.10.12 (main, Nov 20 2023, 15:14:05) [GCC 11.4.0]\n",
            "Fooocus version: 2.1.861\n",
            "Running on local URL:  http://127.0.0.1:7865\n",
            "Total VRAM 15102 MB, total RAM 12979 MB\n",
            "Set vram state to: NORMAL_VRAM\n",
            "Always offload VRAM\n",
            "Device: cuda:0 Tesla T4 : native\n",
            "VAE dtype: torch.float32\n",
            "Using pytorch cross attention\n",
            "Running on public URL: https://5117927b9bf5e50a14.gradio.live\n",
            "\n",
            "This share link expires in 72 hours. For free permanent hosting and GPU upgrades, run `gradio deploy` from Terminal to deploy to Spaces (https://huggingface.co/spaces)\n",
            "2024-01-08 07:00:06.182300: E external/local_xla/xla/stream_executor/cuda/cuda_dnn.cc:9261] Unable to register cuDNN factory: Attempting to register factory for plugin cuDNN when one has already been registered\n",
            "2024-01-08 07:00:06.182354: E external/local_xla/xla/stream_executor/cuda/cuda_fft.cc:607] Unable to register cuFFT factory: Attempting to register factory for plugin cuFFT when one has already been registered\n",
            "2024-01-08 07:00:06.183857: E external/local_xla/xla/stream_executor/cuda/cuda_blas.cc:1515] Unable to register cuBLAS factory: Attempting to register factory for plugin cuBLAS when one has already been registered\n",
            "2024-01-08 07:00:07.487977: W tensorflow/compiler/tf2tensorrt/utils/py_utils.cc:38] TF-TRT Warning: Could not find TensorRT\n",
            "Refiner unloaded.\n",
            "model_type EPS\n",
            "UNet ADM Dimension 2816\n",
            "Using pytorch attention in VAE\n",
            "Working with z of shape (1, 4, 32, 32) = 4096 dimensions.\n",
            "Using pytorch attention in VAE\n",
            "extra {'cond_stage_model.clip_l.transformer.text_model.embeddings.position_ids', 'cond_stage_model.clip_l.logit_scale', 'cond_stage_model.clip_l.text_projection', 'cond_stage_model.clip_g.transformer.text_model.embeddings.position_ids'}\n",
            "left over keys: dict_keys(['conditioner.embedders.0.logit_scale', 'conditioner.embedders.0.text_projection'])\n",
            "Base model loaded: /content/Fooocus/models/checkpoints/Gatitos.safetensors\n",
            "Request to load LoRAs [['sd_xl_offset_example-lora_1.0.safetensors', 0.5], ['None', 1.0], ['None', 1.0], ['None', 1.0], ['None', 1.0]] for model [/content/Fooocus/models/checkpoints/Gatitos.safetensors].\n",
            "Loaded LoRA [/content/drive/MyDrive/MyLoras/sd_xl_offset_example-lora_1.0.safetensors] for UNet [/content/Fooocus/models/checkpoints/Gatitos.safetensors] with 788 keys at weight 0.5.\n",
            "Fooocus V2 Expansion: Vocab with 642 words.\n",
            "Fooocus Expansion engine loaded for cuda:0, use_fp16 = True.\n",
            "Requested to load SDXLClipModel\n",
            "Requested to load GPT2LMHeadModel\n",
            "Loading 2 new models\n",
            "[Fooocus Model Management] Moving model(s) has taken 0.93 seconds\n",
            "App started successful. Use the app with http://127.0.0.1:7865/ or 127.0.0.1:7865 or https://5117927b9bf5e50a14.gradio.live\n",
            "[Parameters] Adaptive CFG = 7\n",
            "[Parameters] Sharpness = 2\n",
            "[Parameters] ADM Scale = 1.5 : 0.8 : 0.3\n",
            "[Parameters] CFG = 7.0\n",
            "[Parameters] Seed = 7998803981143226160\n",
            "[Parameters] Sampler = dpmpp_2m_sde_gpu - karras\n",
            "[Parameters] Steps = 30 - 22\n",
            "[Fooocus] Initializing ...\n",
            "[Fooocus] Loading models ...\n",
            "Refiner unloaded.\n",
            "Request to load LoRAs [['14Mika-Rakul_Preet_Singh.safetensors', 0.8], ['None', 1.0], ['None', 1.0], ['None', 1.0], ['None', 1.0]] for model [/content/Fooocus/models/checkpoints/Gatitos.safetensors].\n",
            "Loaded LoRA [/content/drive/MyDrive/MyLoras/14Mika-Rakul_Preet_Singh.safetensors] for UNet [/content/Fooocus/models/checkpoints/Gatitos.safetensors] with 722 keys at weight 0.8.\n",
            "Requested to load SDXLClipModel\n",
            "Loading 1 new model\n",
            "unload clone 1\n",
            "[Fooocus Model Management] Moving model(s) has taken 1.57 seconds\n",
            "[Fooocus] Processing prompts ...\n",
            "[Fooocus] Preparing Fooocus text #1 ...\n",
            "[Prompt Expansion] Rakul Preet Singh's close-up portrait captures her radiant smile and captivating gray eyes with charming orange specks, exuding warmth and charm. The focus on her engaging features against a soft, neutral background highlights her natural beauty, immortalized by skilled photographers, Instagram, creative, positive, joyful, unique, intense color, detailed, very inspirational, inspiring\n",
            "[Fooocus] Preparing Fooocus text #2 ...\n",
            "[Prompt Expansion] Rakul Preet Singh's close-up portrait captures her radiant smile and captivating gray eyes with charming orange specks, exuding warmth and charm. The focus on her engaging features against a soft, neutral background highlights her natural beauty, immortalized by skilled photographers, Instagram, complex, elegant, luxurious, highly detailed, sharp, focused detail, dramatic, cinematic\n",
            "[Fooocus] Encoding positive #1 ...\n",
            "[Fooocus Model Management] Moving model(s) has taken 0.13 seconds\n",
            "[Fooocus] Encoding positive #2 ...\n",
            "[Fooocus] Encoding negative #1 ...\n",
            "[Fooocus] Encoding negative #2 ...\n",
            "[Parameters] Denoising Strength = 1.0\n",
            "[Parameters] Initial Latent shape: Image Space (896, 1152)\n",
            "Preparation time: 11.49 seconds\n",
            "[Sampler] refiner_swap_method = joint\n",
            "[Sampler] sigma_min = 0.0291671771556139, sigma_max = 14.614643096923828\n",
            "Requested to load SDXL\n",
            "Loading 1 new model\n",
            "[Fooocus Model Management] Moving model(s) has taken 3.29 seconds\n",
            "100% 30/30 [00:26<00:00,  1.15it/s]\n",
            "Requested to load AutoencoderKL\n",
            "Loading 1 new model\n",
            "[Fooocus Model Management] Moving model(s) has taken 1.00 seconds\n",
            "Image generated with private log at: /content/drive/MyDrive/Fooocus_output/2024-01-08/log.html\n",
            "Generating and saving time: 33.50 seconds\n",
            "[Sampler] refiner_swap_method = joint\n",
            "[Sampler] sigma_min = 0.0291671771556139, sigma_max = 14.614643096923828\n",
            "Requested to load SDXL\n",
            "Loading 1 new model\n",
            "[Fooocus Model Management] Moving model(s) has taken 2.84 seconds\n",
            "100% 30/30 [00:26<00:00,  1.14it/s]\n",
            "Requested to load AutoencoderKL\n",
            "Loading 1 new model\n",
            "[Fooocus Model Management] Moving model(s) has taken 0.59 seconds\n",
            "Image generated with private log at: /content/drive/MyDrive/Fooocus_output/2024-01-08/log.html\n",
            "Generating and saving time: 32.66 seconds\n",
            "Requested to load SDXLClipModel\n",
            "Requested to load GPT2LMHeadModel\n",
            "Loading 2 new models\n",
            "[Fooocus Model Management] Moving model(s) has taken 1.16 seconds\n",
            "Total time: 82.56 seconds\n",
            "[Parameters] Adaptive CFG = 7\n",
            "[Parameters] Sharpness = 2\n",
            "[Parameters] ADM Scale = 1.5 : 0.8 : 0.3\n",
            "[Parameters] CFG = 4.0\n",
            "[Parameters] Seed = 5676372226110033652\n",
            "[Parameters] Sampler = dpmpp_2m_sde_gpu - karras\n",
            "[Parameters] Steps = 30 - 22\n",
            "[Fooocus] Initializing ...\n",
            "[Fooocus] Loading models ...\n",
            "Refiner unloaded.\n",
            "Request to load LoRAs [['14Mika-Rakul_Preet_Singh.safetensors', 1.0], ['None', 1.0], ['None', 1.0], ['None', 1.0], ['None', 1.0]] for model [/content/Fooocus/models/checkpoints/Gatitos.safetensors].\n",
            "Loaded LoRA [/content/drive/MyDrive/MyLoras/14Mika-Rakul_Preet_Singh.safetensors] for UNet [/content/Fooocus/models/checkpoints/Gatitos.safetensors] with 722 keys at weight 1.0.\n",
            "Requested to load SDXLClipModel\n",
            "Loading 1 new model\n",
            "unload clone 1\n",
            "[Fooocus Model Management] Moving model(s) has taken 1.27 seconds\n",
            "[Fooocus] Processing prompts ...\n",
            "[Fooocus] Preparing Fooocus text #1 ...\n",
            "[Prompt Expansion] Rakul Preet Singh's close-up portrait captures her radiant smile and captivating gray eyes with charming orange specks, exuding warmth and charm. The focus on her engaging features against a soft, neutral background highlights her natural beauty, immortalized by skilled photographers, Instagram, complex, sharp, detailed, elegant, intricate, highly contrasted, rich colors, romantic\n",
            "[Fooocus] Preparing Fooocus text #2 ...\n",
            "[Prompt Expansion] Rakul Preet Singh's close-up portrait captures her radiant smile and captivating gray eyes with charming orange specks, exuding warmth and charm. The focus on her engaging features against a soft, neutral background highlights her natural beauty, immortalized by skilled photographers, Instagram, creative, fair, romantic, intricate, elegant, sharp detail, professional, cinematic, highly\n",
            "[Fooocus] Encoding positive #1 ...\n",
            "[Fooocus Model Management] Moving model(s) has taken 0.12 seconds\n",
            "[Fooocus] Encoding positive #2 ...\n",
            "[Fooocus] Encoding negative #1 ...\n",
            "[Fooocus] Encoding negative #2 ...\n",
            "[Parameters] Denoising Strength = 1.0\n",
            "[Parameters] Initial Latent shape: Image Space (896, 1152)\n",
            "Preparation time: 4.35 seconds\n",
            "[Sampler] refiner_swap_method = joint\n",
            "[Sampler] sigma_min = 0.0291671771556139, sigma_max = 14.614643096923828\n",
            "Requested to load SDXL\n",
            "Loading 1 new model\n",
            "[Fooocus Model Management] Moving model(s) has taken 3.18 seconds\n",
            " 13% 4/30 [00:03<00:22,  1.14it/s]"
          ]
        }
      ],
      "source": [
        "!pip install pygit2==1.12.2\n",
        "%cd /content\n",
        "!git clone https://github.com/lllyasviel/Fooocus.git\n",
        "%cd /content/Fooocus\n",
        "!python entry_with_update.py --share --preset Gatitos"
      ]
    },
    {
      "cell_type": "code",
      "source": [
        "\n",
        "import os\n",
        "import json\n",
        "\n",
        "def modificar_json(nombre_archivo: str, link_archivo: str, aspect_ratio: str = \"1152*896\"):\n",
        "    carpeta = '/content/Fooocus/presets'\n",
        "    archivos = os.listdir(carpeta)\n",
        "    json_encontrado = next((archivo for archivo in archivos if archivo.endswith('.json')), None)\n",
        "\n",
        "    if json_encontrado:\n",
        "        with open(os.path.join(carpeta, json_encontrado)) as file:\n",
        "            data = json.load(file)\n",
        "\n",
        "        # Modificar los valores necesarios\n",
        "        data['default_model'] = nombre_archivo\n",
        "        data['default_aspect_ratio'] = aspect_ratio\n",
        "\n",
        "        # Modificar o eliminar default_refiner\n",
        "        data['default_refiner'] = \"\"\n",
        "\n",
        "        # Actualizar el diccionario checkpoint_downloads con el nuevo archivo y link\n",
        "        data['checkpoint_downloads'] = {nombre_archivo: link_archivo}\n",
        "\n",
        "        # Simplificar el nombre del archivo de salida\n",
        "        nuevo_nombre = f\"{nombre_archivo.replace(' ', '').replace('-', '').split('.')[0]}.json\"\n",
        "        with open(os.path.join(carpeta, nuevo_nombre), 'w') as file:\n",
        "            json.dump(data, file, separators=(',', ':'))\n",
        "\n",
        "        return f\"¡Se ha creado el archivo {nuevo_nombre} con los parámetros proporcionados y estructura correcta!\"\n",
        "\n",
        "    else:\n",
        "        return \"No se encontraron archivos JSON en la carpeta especificada.\"\n",
        "\n",
        "# Parámetros proporcionados\n",
        "nombre_archivo = \"Gatitos.safetensors\"  #@param {type: \"string\"}\n",
        "link_archivo = \"https://civitai.com/api/download/models/275491\"  #@param {type: \"string\"}\n",
        "resultado = modificar_json(nombre_archivo, link_archivo)\n",
        "print(resultado)"
      ],
      "metadata": {
        "id": "6EwvamdE0q0k",
        "outputId": "f7de3e6f-66d5-4f1b-dad4-75b0b04e76a6",
        "colab": {
          "base_uri": "https://localhost:8080/"
        }
      },
      "execution_count": 9,
      "outputs": [
        {
          "output_type": "stream",
          "name": "stdout",
          "text": [
            "¡Se ha creado el archivo Gatitos.json con los parámetros proporcionados y estructura correcta!\n"
          ]
        }
      ]
    },
    {
      "cell_type": "code",
      "source": [
        "from google.colab import drive\n",
        "drive.mount('/content/drive')"
      ],
      "metadata": {
        "id": "xXkJ4qJHw1xC",
        "outputId": "daf2a875-922a-4b95-b294-61c46425ce68",
        "colab": {
          "base_uri": "https://localhost:8080/"
        }
      },
      "execution_count": 2,
      "outputs": [
        {
          "output_type": "stream",
          "name": "stdout",
          "text": [
            "Mounted at /content/drive\n"
          ]
        }
      ]
    },
    {
      "cell_type": "code",
      "source": [
        "\n",
        "file_path = '/content/Fooocus/config.txt'\n",
        "\n",
        "# Abrir el archivo y leer su contenido\n",
        "with open(file_path, 'r') as file:\n",
        "    data = file.read()\n",
        "\n",
        "# Realizar los cambios necesarios en el contenido\n",
        "data = data.replace('/content/Fooocus/models/loras', '/content/drive/MyDrive/MyLoras')\n",
        "data = data.replace('/content/Fooocus/outputs', '/content/drive/MyDrive/Fooocus_output')\n",
        "\n",
        "# Escribir los cambios de vuelta al archivo\n",
        "with open(file_path, 'w') as file:\n",
        "    file.write(data)\n",
        "\n",
        "print(\"Se han actualizado los directorios en el archivo de configuración.\")"
      ],
      "metadata": {
        "id": "RK1jRsRkT-2a",
        "outputId": "51a96c2c-2dc0-45a6-a032-81d189bde1a7",
        "colab": {
          "base_uri": "https://localhost:8080/"
        }
      },
      "execution_count": 3,
      "outputs": [
        {
          "output_type": "stream",
          "name": "stdout",
          "text": [
            "Se han actualizado los directorios en el archivo de configuración.\n"
          ]
        }
      ]
    }
  ],
  "metadata": {
    "accelerator": "GPU",
    "colab": {
      "gpuType": "T4",
      "provenance": [],
      "include_colab_link": true
    },
    "kernelspec": {
      "display_name": "Python 3",
      "name": "python3"
    },
    "language_info": {
      "name": "python"
    }
  },
  "nbformat": 4,
  "nbformat_minor": 0
}