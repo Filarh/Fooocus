{
  "cells": [
    {
      "cell_type": "code",
      "execution_count": null,
      "metadata": {
        "id": "VjYy0F2gZIPR"
      },
      "outputs": [],
      "source": [
        "!pip install pygit2==1.12.2\n",
        "%cd /content\n",
        "!git clone https://github.com/lllyasviel/Fooocus.git\n",
        "%cd /content/Fooocus\n",
        "!python entry_with_update.py --share"
      ]
    },
    {
      "cell_type": "code",
      "source": [
        "\n",
        "file_path = '/content/Fooocus/config.txt'\n",
        "\n",
        "# Abrir el archivo y leer su contenido\n",
        "with open(file_path, 'r') as file:\n",
        "    data = file.read()\n",
        "\n",
        "# Realizar los cambios necesarios en el contenido\n",
        "data = data.replace('/content/Fooocus/models/loras', '/content/drive/MyDrive/MyLoras')\n",
        "data = data.replace('/content/Fooocus/outputs', '/content/drive/MyDrive/Fooocus_output')\n",
        "\n",
        "# Escribir los cambios de vuelta al archivo\n",
        "with open(file_path, 'w') as file:\n",
        "    file.write(data)\n",
        "\n",
        "print(\"Se han actualizado los directorios en el archivo de configuración.\")"
      ],
      "metadata": {
        "id": "RK1jRsRkT-2a"
      },
      "execution_count": null,
      "outputs": []
    }
  ],
  "metadata": {
    "accelerator": "GPU",
    "colab": {
      "gpuType": "T4",
      "provenance": []
    },
    "kernelspec": {
      "display_name": "Python 3",
      "name": "python3"
    },
    "language_info": {
      "name": "python"
    }
  },
  "nbformat": 4,
  "nbformat_minor": 0
}
